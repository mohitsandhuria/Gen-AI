{
 "cells": [
  {
   "cell_type": "markdown",
   "metadata": {},
   "source": [
    "# Building a ChatBot"
   ]
  },
  {
   "cell_type": "markdown",
   "metadata": {},
   "source": [
    "Designing and implementation of an LLM-Powered Chatbot. This chatbot will be able to have a conversation and remember all the previous interractions."
   ]
  },
  {
   "cell_type": "markdown",
   "metadata": {},
   "source": [
    "This chatbot will only use the language model to have a conversation"
   ]
  },
  {
   "cell_type": "code",
   "execution_count": 2,
   "metadata": {},
   "outputs": [],
   "source": [
    "import os\n",
    "from dotenv import load_dotenv\n",
    "load_dotenv()\n",
    "\n",
    "groq_api_key=os.getenv(\"GROQ_API_KEY\")"
   ]
  },
  {
   "cell_type": "code",
   "execution_count": 4,
   "metadata": {},
   "outputs": [
    {
     "data": {
      "text/plain": [
       "ChatGroq(client=<groq.resources.chat.completions.Completions object at 0x000002127AE76050>, async_client=<groq.resources.chat.completions.AsyncCompletions object at 0x000002127AE77690>, model_name='Gemma2-9b-It', groq_api_key=SecretStr('**********'))"
      ]
     },
     "execution_count": 4,
     "metadata": {},
     "output_type": "execute_result"
    }
   ],
   "source": [
    "from langchain_groq import ChatGroq\n",
    "model=ChatGroq(model=\"Gemma2-9b-It\",groq_api_key=groq_api_key)\n",
    "model"
   ]
  },
  {
   "cell_type": "code",
   "execution_count": 6,
   "metadata": {},
   "outputs": [
    {
     "data": {
      "text/plain": [
       "\"Hi Mohit!\\n\\nIt's nice to meet you. That's great! Data science is a fascinating field. \\n\\nWhat kind of data science work do you do?  \\n\\nAre you working on any interesting projects right now? I'd love to hear more about it.\\n\""
      ]
     },
     "execution_count": 6,
     "metadata": {},
     "output_type": "execute_result"
    }
   ],
   "source": [
    "from langchain_core.messages import HumanMessage\n",
    "from langchain_core.output_parsers import StrOutputParser\n",
    "parser=StrOutputParser()\n",
    "chain= model|parser\n",
    "chain.invoke([HumanMessage(content=\"Hi, My Name is Mohit. I am a Data scientist\")])"
   ]
  },
  {
   "cell_type": "code",
   "execution_count": 7,
   "metadata": {},
   "outputs": [
    {
     "data": {
      "text/plain": [
       "AIMessage(content=\"You told me your name is Mohit and that you are a Data Scientist! 😊  \\n\\nIs there anything else you'd like to tell me about yourself or your work?  I'm all ears.  👂 \\n\", response_metadata={'token_usage': {'completion_tokens': 49, 'prompt_tokens': 105, 'total_tokens': 154, 'completion_time': 0.101318399, 'prompt_time': 0.0074958, 'queue_time': None, 'total_time': 0.108814199}, 'model_name': 'Gemma2-9b-It', 'system_fingerprint': 'fp_10c08bf97d', 'finish_reason': 'stop', 'logprobs': None}, id='run-5003cab7-42ed-49ec-81bf-929c7e5ecfb1-0', usage_metadata={'input_tokens': 105, 'output_tokens': 49, 'total_tokens': 154})"
      ]
     },
     "execution_count": 7,
     "metadata": {},
     "output_type": "execute_result"
    }
   ],
   "source": [
    "from langchain_core.messages import AIMessage\n",
    "\n",
    "model.invoke([HumanMessage(content=\"Hi, My Name is Mohit. I am a Data Scientist\"),\n",
    "              AIMessage(content=\"Hi Mohit! It's nice to meet you. That's great! Data science is a fascinating field. What kind of data science work do you do?  \\n\\nAre you working on any interesting projects right now? I'd love to hear more about it.\\n\"),\n",
    "              HumanMessage(content=\"Hey!, Whats my name and What do I do?\")])"
   ]
  },
  {
   "cell_type": "markdown",
   "metadata": {},
   "source": [
    "#### Message History"
   ]
  },
  {
   "cell_type": "markdown",
   "metadata": {},
   "source": [
    "To keep track of inputs and outputs of the model and store them into DB. Future interactions will load these message and pass them into a chain as a part of input"
   ]
  },
  {
   "cell_type": "code",
   "execution_count": 10,
   "metadata": {},
   "outputs": [],
   "source": [
    "from langchain_community.chat_message_histories import ChatMessageHistory\n",
    "from langchain_core.chat_history import BaseChatMessageHistory\n",
    "from langchain_core.runnables.history import RunnableWithMessageHistory\n",
    "\n",
    "store={}\n",
    "\n",
    "def get_session_history(session_id:str)->BaseChatMessageHistory:\n",
    "    if session_id not in store:\n",
    "        store[session_id]=ChatMessageHistory()\n",
    "    return store[session_id]\n",
    "\n",
    "with_message_history=RunnableWithMessageHistory(model,get_session_history)"
   ]
  },
  {
   "cell_type": "code",
   "execution_count": 16,
   "metadata": {},
   "outputs": [],
   "source": [
    "config1={\"configurable\":{\"session_id\":\"chat1\"}}"
   ]
  },
  {
   "cell_type": "code",
   "execution_count": 17,
   "metadata": {},
   "outputs": [
    {
     "name": "stderr",
     "output_type": "stream",
     "text": [
      "Error in RootListenersTracer.on_chain_end callback: ValueError()\n",
      "Error in callback coroutine: ValueError()\n"
     ]
    },
    {
     "data": {
      "text/plain": [
       "AIMessage(content=\"Hello Mohit! It's nice to meet you. \\n\\nAs a large language model, I'm always interested in learning more about people who work in data science.  What kind of projects are you currently working on?  \\n\\nAre you working with any interesting datasets or using any new techniques?  \\n\\nI'm eager to hear more about your work!\\n\", response_metadata={'token_usage': {'completion_tokens': 78, 'prompt_tokens': 261, 'total_tokens': 339, 'completion_time': 0.162906195, 'prompt_time': 0.023612229, 'queue_time': None, 'total_time': 0.18651842400000002}, 'model_name': 'Gemma2-9b-It', 'system_fingerprint': 'fp_10c08bf97d', 'finish_reason': 'stop', 'logprobs': None}, id='run-ba200927-f375-461e-a61b-9ede9681c24c-0', usage_metadata={'input_tokens': 261, 'output_tokens': 78, 'total_tokens': 339})"
      ]
     },
     "execution_count": 17,
     "metadata": {},
     "output_type": "execute_result"
    }
   ],
   "source": [
    "with_message_history.invoke(\n",
    "    [HumanMessage(content=\"Hi, My Name is Mohit. I am a Data Scientist\")],\n",
    "    config=config1\n",
    "    )"
   ]
  },
  {
   "cell_type": "code",
   "execution_count": 18,
   "metadata": {},
   "outputs": [
    {
     "name": "stderr",
     "output_type": "stream",
     "text": [
      "Error in RootListenersTracer.on_chain_end callback: ValueError()\n",
      "Error in callback coroutine: ValueError()\n"
     ]
    },
    {
     "data": {
      "text/plain": [
       "AIMessage(content='Your name is Mohit.  \\n\\nIs there anything else I can help you with? 😊 \\n\\n', response_metadata={'token_usage': {'completion_tokens': 24, 'prompt_tokens': 350, 'total_tokens': 374, 'completion_time': 0.048495836, 'prompt_time': 0.038892171, 'queue_time': None, 'total_time': 0.087388007}, 'model_name': 'Gemma2-9b-It', 'system_fingerprint': 'fp_10c08bf97d', 'finish_reason': 'stop', 'logprobs': None}, id='run-fc9d92cb-2792-44f4-aff0-6bd9567a34db-0', usage_metadata={'input_tokens': 350, 'output_tokens': 24, 'total_tokens': 374})"
      ]
     },
     "execution_count": 18,
     "metadata": {},
     "output_type": "execute_result"
    }
   ],
   "source": [
    "with_message_history.invoke(\n",
    "    [HumanMessage(content=\"whats my name\")],\n",
    "    config=config1\n",
    "    )"
   ]
  },
  {
   "cell_type": "code",
   "execution_count": 21,
   "metadata": {},
   "outputs": [
    {
     "name": "stderr",
     "output_type": "stream",
     "text": [
      "Error in RootListenersTracer.on_chain_end callback: ValueError()\n",
      "Error in callback coroutine: ValueError()\n"
     ]
    },
    {
     "data": {
      "text/plain": [
       "AIMessage(content=\"Since I don't have access to any past conversations or personal information, I don't know your name. \\n\\nWould you like to tell me? 😊  \\n\", response_metadata={'token_usage': {'completion_tokens': 37, 'prompt_tokens': 70, 'total_tokens': 107, 'completion_time': 0.075686596, 'prompt_time': 0.004224497, 'queue_time': None, 'total_time': 0.07991109299999999}, 'model_name': 'Gemma2-9b-It', 'system_fingerprint': 'fp_10c08bf97d', 'finish_reason': 'stop', 'logprobs': None}, id='run-6e359de9-6255-47e1-b277-27a7f30b4cab-0', usage_metadata={'input_tokens': 70, 'output_tokens': 37, 'total_tokens': 107})"
      ]
     },
     "execution_count": 21,
     "metadata": {},
     "output_type": "execute_result"
    }
   ],
   "source": [
    "config2={\"configurable\":{\"session_id\":\"chat2\"}}\n",
    "result=with_message_history.invoke(\n",
    "    [HumanMessage(content=\"whats my name\")],\n",
    "    config=config2\n",
    "    )\n",
    "result"
   ]
  },
  {
   "cell_type": "code",
   "execution_count": 22,
   "metadata": {},
   "outputs": [
    {
     "name": "stderr",
     "output_type": "stream",
     "text": [
      "Error in RootListenersTracer.on_chain_end callback: ValueError()\n",
      "Error in callback coroutine: ValueError()\n"
     ]
    },
    {
     "data": {
      "text/plain": [
       "AIMessage(content='Nice to meet you, Jack! 👋 \\n\\nIs there anything I can help you with today? 😊  \\n\\n', response_metadata={'token_usage': {'completion_tokens': 26, 'prompt_tokens': 119, 'total_tokens': 145, 'completion_time': 0.052935595, 'prompt_time': 0.005101573, 'queue_time': None, 'total_time': 0.058037168}, 'model_name': 'Gemma2-9b-It', 'system_fingerprint': 'fp_10c08bf97d', 'finish_reason': 'stop', 'logprobs': None}, id='run-72a1b995-61b8-44ab-a88b-01aea2106bfb-0', usage_metadata={'input_tokens': 119, 'output_tokens': 26, 'total_tokens': 145})"
      ]
     },
     "execution_count": 22,
     "metadata": {},
     "output_type": "execute_result"
    }
   ],
   "source": [
    "config2={\"configurable\":{\"session_id\":\"chat2\"}}\n",
    "result=with_message_history.invoke(\n",
    "    [HumanMessage(content=\"my name is Jack\")],\n",
    "    config=config2\n",
    "    )\n",
    "result"
   ]
  },
  {
   "cell_type": "code",
   "execution_count": 23,
   "metadata": {},
   "outputs": [
    {
     "name": "stderr",
     "output_type": "stream",
     "text": [
      "Error in RootListenersTracer.on_chain_end callback: ValueError()\n",
      "Error in callback coroutine: ValueError()\n"
     ]
    },
    {
     "data": {
      "text/plain": [
       "AIMessage(content='Your name is Jack!  I remember you telling me. 😊  \\n\\nDo you have another question for me?', response_metadata={'token_usage': {'completion_tokens': 25, 'prompt_tokens': 155, 'total_tokens': 180, 'completion_time': 0.050536648, 'prompt_time': 0.009155691, 'queue_time': None, 'total_time': 0.059692339000000004}, 'model_name': 'Gemma2-9b-It', 'system_fingerprint': 'fp_10c08bf97d', 'finish_reason': 'stop', 'logprobs': None}, id='run-4cb1c66b-4fdc-4153-a3d7-a2be9fbecfc3-0', usage_metadata={'input_tokens': 155, 'output_tokens': 25, 'total_tokens': 180})"
      ]
     },
     "execution_count": 23,
     "metadata": {},
     "output_type": "execute_result"
    }
   ],
   "source": [
    "config2={\"configurable\":{\"session_id\":\"chat2\"}}\n",
    "result=with_message_history.invoke(\n",
    "    [HumanMessage(content=\"whats my name\")],\n",
    "    config=config2\n",
    "    )\n",
    "result"
   ]
  },
  {
   "cell_type": "code",
   "execution_count": 24,
   "metadata": {},
   "outputs": [
    {
     "data": {
      "text/plain": [
       "{'chat1': InMemoryChatMessageHistory(messages=[HumanMessage(content='Hi, My Name is Mohit. I am a Data Scientist'), AIMessage(content=\"Hello Mohit! It's nice to meet you.  \\n\\nAs a large language model, I'm always interested in learning more about people who work in data science. What kind of projects are you currently working on?  \\n\\nDo you have any specific questions I can help you with today?\\n\", response_metadata={'token_usage': {'completion_tokens': 64, 'prompt_tokens': 27, 'total_tokens': 91, 'completion_time': 0.133035318, 'prompt_time': 0.00436504, 'queue_time': None, 'total_time': 0.137400358}, 'model_name': 'Gemma2-9b-It', 'system_fingerprint': 'fp_10c08bf97d', 'finish_reason': 'stop', 'logprobs': None}, id='run-30f428ef-baf2-4b09-9399-dd115d486df7-0', usage_metadata={'input_tokens': 27, 'output_tokens': 64, 'total_tokens': 91}), HumanMessage(content='Hi, My Name is Mohit. I am a Data Scientist'), AIMessage(content=\"Hi Mohit, it's great to meet you! \\n\\nAs a fellow AI, I'm always interested in connecting with other data science professionals.  \\n\\nWhat kind of work do you specialize in?  Do you have any interesting projects you're working on right now?\\n\", response_metadata={'token_usage': {'completion_tokens': 61, 'prompt_tokens': 112, 'total_tokens': 173, 'completion_time': 0.126616744, 'prompt_time': 0.006583226, 'queue_time': None, 'total_time': 0.13319997}, 'model_name': 'Gemma2-9b-It', 'system_fingerprint': 'fp_10c08bf97d', 'finish_reason': 'stop', 'logprobs': None}, id='run-a62eab01-ed35-4ab4-a786-bcec7ef1985e-0', usage_metadata={'input_tokens': 112, 'output_tokens': 61, 'total_tokens': 173}), HumanMessage(content='whats my name'), AIMessage(content='Your name is Mohit. 😊 \\n\\nI remember that from our first interaction!  \\n\\n', response_metadata={'token_usage': {'completion_tokens': 22, 'prompt_tokens': 184, 'total_tokens': 206, 'completion_time': 0.044, 'prompt_time': 0.032277052, 'queue_time': None, 'total_time': 0.076277052}, 'model_name': 'Gemma2-9b-It', 'system_fingerprint': 'fp_10c08bf97d', 'finish_reason': 'stop', 'logprobs': None}, id='run-34833246-c4db-426e-9b1a-ea1799231cdd-0', usage_metadata={'input_tokens': 184, 'output_tokens': 22, 'total_tokens': 206}), HumanMessage(content='whats my name'), AIMessage(content='You told me your name is Mohit! \\n\\nIs there something else I can help you with?\\n', response_metadata={'token_usage': {'completion_tokens': 24, 'prompt_tokens': 216, 'total_tokens': 240, 'completion_time': 0.04807304, 'prompt_time': 0.037423662, 'queue_time': None, 'total_time': 0.08549670200000001}, 'model_name': 'Gemma2-9b-It', 'system_fingerprint': 'fp_10c08bf97d', 'finish_reason': 'stop', 'logprobs': None}, id='run-21343747-8b03-45ec-8bec-f66240d94093-0', usage_metadata={'input_tokens': 216, 'output_tokens': 24, 'total_tokens': 240}), HumanMessage(content='Hi, My Name is Mohit. I am a Data Scientist'), AIMessage(content=\"Hello Mohit! It's nice to meet you. \\n\\nAs a large language model, I'm always interested in learning more about people who work in data science.  What kind of projects are you currently working on?  \\n\\nAre you working with any interesting datasets or using any new techniques?  \\n\\nI'm eager to hear more about your work!\\n\", response_metadata={'token_usage': {'completion_tokens': 78, 'prompt_tokens': 261, 'total_tokens': 339, 'completion_time': 0.162906195, 'prompt_time': 0.023612229, 'queue_time': None, 'total_time': 0.18651842400000002}, 'model_name': 'Gemma2-9b-It', 'system_fingerprint': 'fp_10c08bf97d', 'finish_reason': 'stop', 'logprobs': None}, id='run-ba200927-f375-461e-a61b-9ede9681c24c-0', usage_metadata={'input_tokens': 261, 'output_tokens': 78, 'total_tokens': 339}), HumanMessage(content='whats my name'), AIMessage(content='Your name is Mohit.  \\n\\nIs there anything else I can help you with? 😊 \\n\\n', response_metadata={'token_usage': {'completion_tokens': 24, 'prompt_tokens': 350, 'total_tokens': 374, 'completion_time': 0.048495836, 'prompt_time': 0.038892171, 'queue_time': None, 'total_time': 0.087388007}, 'model_name': 'Gemma2-9b-It', 'system_fingerprint': 'fp_10c08bf97d', 'finish_reason': 'stop', 'logprobs': None}, id='run-fc9d92cb-2792-44f4-aff0-6bd9567a34db-0', usage_metadata={'input_tokens': 350, 'output_tokens': 24, 'total_tokens': 374}), HumanMessage(content='whats my name'), AIMessage(content='Your name is Mohit.  I remember!  \\n\\nIs there anything else I can help you with today?\\n', response_metadata={'token_usage': {'completion_tokens': 26, 'prompt_tokens': 384, 'total_tokens': 410, 'completion_time': 0.052407789, 'prompt_time': 0.022944906, 'queue_time': None, 'total_time': 0.075352695}, 'model_name': 'Gemma2-9b-It', 'system_fingerprint': 'fp_10c08bf97d', 'finish_reason': 'stop', 'logprobs': None}, id='run-159b9096-3297-42a3-9a9c-4a0ff406ae7a-0', usage_metadata={'input_tokens': 384, 'output_tokens': 26, 'total_tokens': 410})]),\n",
       " 'chat2': InMemoryChatMessageHistory(messages=[HumanMessage(content='whats my name'), AIMessage(content=\"As an AI, I have no memory of past conversations and do not know your name.\\n\\nIf you'd like to tell me your name, I'd be happy to know! 😊\\n\", response_metadata={'token_usage': {'completion_tokens': 42, 'prompt_tokens': 17, 'total_tokens': 59, 'completion_time': 0.085732915, 'prompt_time': 0.002467735, 'queue_time': None, 'total_time': 0.08820065}, 'model_name': 'Gemma2-9b-It', 'system_fingerprint': 'fp_10c08bf97d', 'finish_reason': 'stop', 'logprobs': None}, id='run-28e8879b-f094-47ba-93b2-ca28084f5750-0', usage_metadata={'input_tokens': 17, 'output_tokens': 42, 'total_tokens': 59}), HumanMessage(content='whats my name'), AIMessage(content=\"Since I don't have access to any past conversations or personal information, I don't know your name. \\n\\nWould you like to tell me? 😊  \\n\", response_metadata={'token_usage': {'completion_tokens': 37, 'prompt_tokens': 70, 'total_tokens': 107, 'completion_time': 0.075686596, 'prompt_time': 0.004224497, 'queue_time': None, 'total_time': 0.07991109299999999}, 'model_name': 'Gemma2-9b-It', 'system_fingerprint': 'fp_10c08bf97d', 'finish_reason': 'stop', 'logprobs': None}, id='run-6e359de9-6255-47e1-b277-27a7f30b4cab-0', usage_metadata={'input_tokens': 70, 'output_tokens': 37, 'total_tokens': 107}), HumanMessage(content='my name is Jack'), AIMessage(content='Nice to meet you, Jack! 👋 \\n\\nIs there anything I can help you with today? 😊  \\n\\n', response_metadata={'token_usage': {'completion_tokens': 26, 'prompt_tokens': 119, 'total_tokens': 145, 'completion_time': 0.052935595, 'prompt_time': 0.005101573, 'queue_time': None, 'total_time': 0.058037168}, 'model_name': 'Gemma2-9b-It', 'system_fingerprint': 'fp_10c08bf97d', 'finish_reason': 'stop', 'logprobs': None}, id='run-72a1b995-61b8-44ab-a88b-01aea2106bfb-0', usage_metadata={'input_tokens': 119, 'output_tokens': 26, 'total_tokens': 145}), HumanMessage(content='whats my name'), AIMessage(content='Your name is Jack!  I remember you telling me. 😊  \\n\\nDo you have another question for me?', response_metadata={'token_usage': {'completion_tokens': 25, 'prompt_tokens': 155, 'total_tokens': 180, 'completion_time': 0.050536648, 'prompt_time': 0.009155691, 'queue_time': None, 'total_time': 0.059692339000000004}, 'model_name': 'Gemma2-9b-It', 'system_fingerprint': 'fp_10c08bf97d', 'finish_reason': 'stop', 'logprobs': None}, id='run-4cb1c66b-4fdc-4153-a3d7-a2be9fbecfc3-0', usage_metadata={'input_tokens': 155, 'output_tokens': 25, 'total_tokens': 180})])}"
      ]
     },
     "execution_count": 24,
     "metadata": {},
     "output_type": "execute_result"
    }
   ],
   "source": [
    "store"
   ]
  },
  {
   "cell_type": "markdown",
   "metadata": {},
   "source": [
    "## Prompt Template"
   ]
  },
  {
   "cell_type": "code",
   "execution_count": 31,
   "metadata": {},
   "outputs": [
    {
     "data": {
      "text/plain": [
       "\"Hello Mohit,\\n\\nIt's nice to meet you!\\n\\nIs there anything I can help you with today? 😊  \\n\\n\""
      ]
     },
     "execution_count": 31,
     "metadata": {},
     "output_type": "execute_result"
    }
   ],
   "source": [
    "from langchain_core.prompts import ChatPromptTemplate,MessagesPlaceholder\n",
    "prompt=ChatPromptTemplate.from_messages(\n",
    "    [(\"system\",\"You are helpful assisstant. Answer all the question to the best of your ability.\"),\n",
    "     MessagesPlaceholder(variable_name=\"messages\")])\n",
    "\n",
    "chain=prompt|model|parser\n",
    "chain.invoke({\"messages\":[HumanMessage(content=\"My Name is Mohit\")]})"
   ]
  },
  {
   "cell_type": "code",
   "execution_count": 33,
   "metadata": {},
   "outputs": [
    {
     "name": "stderr",
     "output_type": "stream",
     "text": [
      "Error in RootListenersTracer.on_chain_end callback: ValueError()\n",
      "Error in callback coroutine: ValueError()\n"
     ]
    },
    {
     "data": {
      "text/plain": [
       "'As a helpful assistant, I have no memory of past conversations and do not know your name. Would you like to tell me? 😊  \\n\\n'"
      ]
     },
     "execution_count": 33,
     "metadata": {},
     "output_type": "execute_result"
    }
   ],
   "source": [
    "with_message_history=RunnableWithMessageHistory(chain,get_session_history)\n",
    "config3={\"configurable\":{\"session_id\":\"chat3\"}}\n",
    "result=with_message_history.invoke(\n",
    "    [HumanMessage(content=\"whats my name\")],\n",
    "    config=config3\n",
    "    )\n",
    "result"
   ]
  },
  {
   "cell_type": "markdown",
   "metadata": {},
   "source": [
    "Adding more complexity"
   ]
  },
  {
   "cell_type": "code",
   "execution_count": 36,
   "metadata": {},
   "outputs": [
    {
     "data": {
      "text/plain": [
       "\"Enchanté, Mohit ! 👋 \\n\\nComment puis-je vous aider aujourd'hui ? \\n\""
      ]
     },
     "execution_count": 36,
     "metadata": {},
     "output_type": "execute_result"
    }
   ],
   "source": [
    "from langchain_core.prompts import ChatPromptTemplate,MessagesPlaceholder\n",
    "prompt=ChatPromptTemplate.from_messages(\n",
    "    [(\"system\",\"You are helpful assisstant. Answer all the question to the best of your ability in {language}\"),\n",
    "     MessagesPlaceholder(variable_name=\"messages\")])\n",
    "\n",
    "chain=prompt|model|parser\n",
    "chain.invoke({\"messages\":[HumanMessage(content=\"My Name is Mohit\")],\"language\":\"French\"})"
   ]
  },
  {
   "cell_type": "code",
   "execution_count": 43,
   "metadata": {},
   "outputs": [
    {
     "name": "stderr",
     "output_type": "stream",
     "text": [
      "Error in RootListenersTracer.on_chain_end callback: ValueError()\n",
      "Error in callback coroutine: ValueError()\n"
     ]
    },
    {
     "data": {
      "text/plain": [
       "'Hola Mohit, \\n\\nMucho gusto. ¿Cómo puedo ayudarte?  😊 \\n'"
      ]
     },
     "execution_count": 43,
     "metadata": {},
     "output_type": "execute_result"
    }
   ],
   "source": [
    "with_message_history=RunnableWithMessageHistory(chain,get_session_history,input_messages_key=\"messages\")\n",
    "\n",
    "config4={\"configurable\":{\"session_id\":\"chat4\"}}\n",
    "result=with_message_history.invoke(\n",
    "    {\"messages\":[HumanMessage(content=\"Hi My name is Mohit\")],\n",
    "    \"language\":\"French\"},\n",
    "    config=config4\n",
    "    )\n",
    "result\n",
    "\n"
   ]
  },
  {
   "cell_type": "code",
   "execution_count": 48,
   "metadata": {},
   "outputs": [],
   "source": []
  },
  {
   "cell_type": "code",
   "execution_count": null,
   "metadata": {},
   "outputs": [],
   "source": []
  },
  {
   "cell_type": "code",
   "execution_count": null,
   "metadata": {},
   "outputs": [],
   "source": []
  }
 ],
 "metadata": {
  "kernelspec": {
   "display_name": "venv",
   "language": "python",
   "name": "python3"
  },
  "language_info": {
   "codemirror_mode": {
    "name": "ipython",
    "version": 3
   },
   "file_extension": ".py",
   "mimetype": "text/x-python",
   "name": "python",
   "nbconvert_exporter": "python",
   "pygments_lexer": "ipython3",
   "version": "3.11.0"
  }
 },
 "nbformat": 4,
 "nbformat_minor": 2
}
