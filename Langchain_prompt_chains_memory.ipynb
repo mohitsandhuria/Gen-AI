{
  "cells": [
    {
      "cell_type": "code",
      "execution_count": null,
      "metadata": {
        "id": "lRlIdxfwzskc"
      },
      "outputs": [],
      "source": [
        "api_key1=\"\"\n"
      ]
    },
    {
      "cell_type": "code",
      "execution_count": null,
      "metadata": {
        "colab": {
          "base_uri": "https://localhost:8080/"
        },
        "id": "D0ebwD1Oz2J_",
        "outputId": "b5544e2b-753f-4a6c-b8f3-1f0d9be0d577"
      },
      "outputs": [
        {
          "name": "stdout",
          "output_type": "stream",
          "text": [
            "Collecting openai==0.28\n",
            "  Downloading openai-0.28.0-py3-none-any.whl (76 kB)\n",
            "\u001b[?25l     \u001b[90m━━━━━━━━━━━━━━━━━━━━━━━━━━━━━━━━━━━━━━━━\u001b[0m \u001b[32m0.0/76.5 kB\u001b[0m \u001b[31m?\u001b[0m eta \u001b[36m-:--:--\u001b[0m\r\u001b[2K     \u001b[91m━━━━━━━━━━━━━━━━━━━━━\u001b[0m\u001b[90m╺\u001b[0m\u001b[90m━━━━━━━━━━━━━━━━━━\u001b[0m \u001b[32m41.0/76.5 kB\u001b[0m \u001b[31m1.1 MB/s\u001b[0m eta \u001b[36m0:00:01\u001b[0m\r\u001b[2K     \u001b[90m━━━━━━━━━━━━━━━━━━━━━━━━━━━━━━━━━━━━━━━━\u001b[0m \u001b[32m76.5/76.5 kB\u001b[0m \u001b[31m1.5 MB/s\u001b[0m eta \u001b[36m0:00:00\u001b[0m\n",
            "\u001b[?25hRequirement already satisfied: requests>=2.20 in /usr/local/lib/python3.10/dist-packages (from openai==0.28) (2.31.0)\n",
            "Requirement already satisfied: tqdm in /usr/local/lib/python3.10/dist-packages (from openai==0.28) (4.66.2)\n",
            "Requirement already satisfied: aiohttp in /usr/local/lib/python3.10/dist-packages (from openai==0.28) (3.9.5)\n",
            "Requirement already satisfied: charset-normalizer<4,>=2 in /usr/local/lib/python3.10/dist-packages (from requests>=2.20->openai==0.28) (3.3.2)\n",
            "Requirement already satisfied: idna<4,>=2.5 in /usr/local/lib/python3.10/dist-packages (from requests>=2.20->openai==0.28) (3.7)\n",
            "Requirement already satisfied: urllib3<3,>=1.21.1 in /usr/local/lib/python3.10/dist-packages (from requests>=2.20->openai==0.28) (2.0.7)\n",
            "Requirement already satisfied: certifi>=2017.4.17 in /usr/local/lib/python3.10/dist-packages (from requests>=2.20->openai==0.28) (2024.2.2)\n",
            "Requirement already satisfied: aiosignal>=1.1.2 in /usr/local/lib/python3.10/dist-packages (from aiohttp->openai==0.28) (1.3.1)\n",
            "Requirement already satisfied: attrs>=17.3.0 in /usr/local/lib/python3.10/dist-packages (from aiohttp->openai==0.28) (23.2.0)\n",
            "Requirement already satisfied: frozenlist>=1.1.1 in /usr/local/lib/python3.10/dist-packages (from aiohttp->openai==0.28) (1.4.1)\n",
            "Requirement already satisfied: multidict<7.0,>=4.5 in /usr/local/lib/python3.10/dist-packages (from aiohttp->openai==0.28) (6.0.5)\n",
            "Requirement already satisfied: yarl<2.0,>=1.0 in /usr/local/lib/python3.10/dist-packages (from aiohttp->openai==0.28) (1.9.4)\n",
            "Requirement already satisfied: async-timeout<5.0,>=4.0 in /usr/local/lib/python3.10/dist-packages (from aiohttp->openai==0.28) (4.0.3)\n",
            "Installing collected packages: openai\n",
            "Successfully installed openai-0.28.0\n"
          ]
        }
      ],
      "source": [
        "pip install openai==0.28"
      ]
    },
    {
      "cell_type": "code",
      "execution_count": null,
      "metadata": {
        "colab": {
          "base_uri": "https://localhost:8080/",
          "height": 123
        },
        "id": "TgI44v5nz7A0",
        "outputId": "15097788-b641-40a8-e9f2-70e0d968ec9a"
      },
      "outputs": [
        {
          "data": {
            "application/vnd.google.colaboratory.intrinsic+json": {
              "type": "string"
            },
            "text/plain": [
              "\", in a faraway kingdom, there lived a young princess named Aurora. She was known for her beauty, kindness, and love for all living creatures. Aurora spent her days exploring the lush gardens of the palace and playing with the woodland animals that lived nearby.\\n\\nOne day, while wandering through the forest, Aurora stumbled upon a hidden cottage deep in the woods. Inside, she found three elderly women who were surprised to see her. They revealed themselves to be fairies who had been living in hiding for many years.\\n\\nThe fairies told Aurora that an evil sorceress had placed a curse on the kingdom, causing darkness to fall over the land. The only way to break the curse was for Aurora to find true love and awaken her inner strength.\\n\\nDetermined to save her kingdom, Aurora set out on a quest to find her true love. Along the way, she faced many challenges and obstacles, but with the help of her animal friends and the guidance of the fairies, she persevered.\\n\\nFinally, after many trials and tribulations, Aurora found her true love in a brave prince who had been searching for her all along. With a true love's kiss, the curse was broken, and light returned to the kingdom once more.\\n\\nAurora and her prince were married in a grand ceremony, and they ruled the kingdom together with wisdom and compassion. And they lived happily ever after, their love shining bright for all to see.\""
            ]
          },
          "execution_count": 4,
          "metadata": {},
          "output_type": "execute_result"
        }
      ],
      "source": [
        "import openai\n",
        "\n",
        "openai.api_key=api_key1\n",
        "model=\"gpt-3.5-turbo\"\n",
        "prompt=\"once upon a time\"\n",
        "\n",
        "resp=openai.ChatCompletion.create(\n",
        "    temperature=0.1,\n",
        "    model=model,\n",
        "    messages=[\n",
        "        {\n",
        "            \"role\": \"user\",\n",
        "            \"content\": prompt\n",
        "        }\n",
        "    ]\n",
        ")\n",
        "resp.choices[0].message['content']"
      ]
    },
    {
      "cell_type": "code",
      "execution_count": null,
      "metadata": {
        "colab": {
          "base_uri": "https://localhost:8080/"
        },
        "id": "GnXJdGq90Pol",
        "outputId": "cfb9259b-432c-4b88-ec2e-896eae370ef3"
      },
      "outputs": [
        {
          "name": "stdout",
          "output_type": "stream",
          "text": [
            "Collecting langchain\n",
            "  Downloading langchain-0.1.16-py3-none-any.whl (817 kB)\n",
            "\u001b[?25l     \u001b[90m━━━━━━━━━━━━━━━━━━━━━━━━━━━━━━━━━━━━━━━━\u001b[0m \u001b[32m0.0/817.7 kB\u001b[0m \u001b[31m?\u001b[0m eta \u001b[36m-:--:--\u001b[0m\r\u001b[2K     \u001b[91m━━━━━━━\u001b[0m\u001b[91m╸\u001b[0m\u001b[90m━━━━━━━━━━━━━━━━━━━━━━━━━━━━━━━━\u001b[0m \u001b[32m153.6/817.7 kB\u001b[0m \u001b[31m4.4 MB/s\u001b[0m eta \u001b[36m0:00:01\u001b[0m\r\u001b[2K     \u001b[91m━━━━━━━━━━━━━━━━━━━━━━━━━━━━━━━━━━━━━━━\u001b[0m\u001b[91m╸\u001b[0m \u001b[32m809.0/817.7 kB\u001b[0m \u001b[31m15.7 MB/s\u001b[0m eta \u001b[36m0:00:01\u001b[0m\r\u001b[2K     \u001b[90m━━━━━━━━━━━━━━━━━━━━━━━━━━━━━━━━━━━━━━━━\u001b[0m \u001b[32m817.7/817.7 kB\u001b[0m \u001b[31m11.1 MB/s\u001b[0m eta \u001b[36m0:00:00\u001b[0m\n",
            "\u001b[?25hRequirement already satisfied: PyYAML>=5.3 in /usr/local/lib/python3.10/dist-packages (from langchain) (6.0.1)\n",
            "Requirement already satisfied: SQLAlchemy<3,>=1.4 in /usr/local/lib/python3.10/dist-packages (from langchain) (2.0.29)\n",
            "Requirement already satisfied: aiohttp<4.0.0,>=3.8.3 in /usr/local/lib/python3.10/dist-packages (from langchain) (3.9.5)\n",
            "Requirement already satisfied: async-timeout<5.0.0,>=4.0.0 in /usr/local/lib/python3.10/dist-packages (from langchain) (4.0.3)\n",
            "Collecting dataclasses-json<0.7,>=0.5.7 (from langchain)\n",
            "  Downloading dataclasses_json-0.6.4-py3-none-any.whl (28 kB)\n",
            "Collecting jsonpatch<2.0,>=1.33 (from langchain)\n",
            "  Downloading jsonpatch-1.33-py2.py3-none-any.whl (12 kB)\n",
            "Collecting langchain-community<0.1,>=0.0.32 (from langchain)\n",
            "  Downloading langchain_community-0.0.34-py3-none-any.whl (1.9 MB)\n",
            "\u001b[2K     \u001b[90m━━━━━━━━━━━━━━━━━━━━━━━━━━━━━━━━━━━━━━━━\u001b[0m \u001b[32m1.9/1.9 MB\u001b[0m \u001b[31m59.8 MB/s\u001b[0m eta \u001b[36m0:00:00\u001b[0m\n",
            "\u001b[?25hCollecting langchain-core<0.2.0,>=0.1.42 (from langchain)\n",
            "  Downloading langchain_core-0.1.45-py3-none-any.whl (291 kB)\n",
            "\u001b[2K     \u001b[90m━━━━━━━━━━━━━━━━━━━━━━━━━━━━━━━━━━━━━━━━\u001b[0m \u001b[32m291.3/291.3 kB\u001b[0m \u001b[31m11.3 MB/s\u001b[0m eta \u001b[36m0:00:00\u001b[0m\n",
            "\u001b[?25hCollecting langchain-text-splitters<0.1,>=0.0.1 (from langchain)\n",
            "  Downloading langchain_text_splitters-0.0.1-py3-none-any.whl (21 kB)\n",
            "Collecting langsmith<0.2.0,>=0.1.17 (from langchain)\n",
            "  Downloading langsmith-0.1.50-py3-none-any.whl (115 kB)\n",
            "\u001b[2K     \u001b[90m━━━━━━━━━━━━━━━━━━━━━━━━━━━━━━━━━━━━━━━━\u001b[0m \u001b[32m115.5/115.5 kB\u001b[0m \u001b[31m12.8 MB/s\u001b[0m eta \u001b[36m0:00:00\u001b[0m\n",
            "\u001b[?25hRequirement already satisfied: numpy<2,>=1 in /usr/local/lib/python3.10/dist-packages (from langchain) (1.25.2)\n",
            "Requirement already satisfied: pydantic<3,>=1 in /usr/local/lib/python3.10/dist-packages (from langchain) (2.7.0)\n",
            "Requirement already satisfied: requests<3,>=2 in /usr/local/lib/python3.10/dist-packages (from langchain) (2.31.0)\n",
            "Requirement already satisfied: tenacity<9.0.0,>=8.1.0 in /usr/local/lib/python3.10/dist-packages (from langchain) (8.2.3)\n",
            "Requirement already satisfied: aiosignal>=1.1.2 in /usr/local/lib/python3.10/dist-packages (from aiohttp<4.0.0,>=3.8.3->langchain) (1.3.1)\n",
            "Requirement already satisfied: attrs>=17.3.0 in /usr/local/lib/python3.10/dist-packages (from aiohttp<4.0.0,>=3.8.3->langchain) (23.2.0)\n",
            "Requirement already satisfied: frozenlist>=1.1.1 in /usr/local/lib/python3.10/dist-packages (from aiohttp<4.0.0,>=3.8.3->langchain) (1.4.1)\n",
            "Requirement already satisfied: multidict<7.0,>=4.5 in /usr/local/lib/python3.10/dist-packages (from aiohttp<4.0.0,>=3.8.3->langchain) (6.0.5)\n",
            "Requirement already satisfied: yarl<2.0,>=1.0 in /usr/local/lib/python3.10/dist-packages (from aiohttp<4.0.0,>=3.8.3->langchain) (1.9.4)\n",
            "Collecting marshmallow<4.0.0,>=3.18.0 (from dataclasses-json<0.7,>=0.5.7->langchain)\n",
            "  Downloading marshmallow-3.21.1-py3-none-any.whl (49 kB)\n",
            "\u001b[2K     \u001b[90m━━━━━━━━━━━━━━━━━━━━━━━━━━━━━━━━━━━━━━━━\u001b[0m \u001b[32m49.4/49.4 kB\u001b[0m \u001b[31m5.9 MB/s\u001b[0m eta \u001b[36m0:00:00\u001b[0m\n",
            "\u001b[?25hCollecting typing-inspect<1,>=0.4.0 (from dataclasses-json<0.7,>=0.5.7->langchain)\n",
            "  Downloading typing_inspect-0.9.0-py3-none-any.whl (8.8 kB)\n",
            "Collecting jsonpointer>=1.9 (from jsonpatch<2.0,>=1.33->langchain)\n",
            "  Downloading jsonpointer-2.4-py2.py3-none-any.whl (7.8 kB)\n",
            "Collecting packaging<24.0,>=23.2 (from langchain-core<0.2.0,>=0.1.42->langchain)\n",
            "  Downloading packaging-23.2-py3-none-any.whl (53 kB)\n",
            "\u001b[2K     \u001b[90m━━━━━━━━━━━━━━━━━━━━━━━━━━━━━━━━━━━━━━━━\u001b[0m \u001b[32m53.0/53.0 kB\u001b[0m \u001b[31m6.7 MB/s\u001b[0m eta \u001b[36m0:00:00\u001b[0m\n",
            "\u001b[?25hCollecting orjson<4.0.0,>=3.9.14 (from langsmith<0.2.0,>=0.1.17->langchain)\n",
            "  Downloading orjson-3.10.1-cp310-cp310-manylinux_2_17_x86_64.manylinux2014_x86_64.whl (141 kB)\n",
            "\u001b[2K     \u001b[90m━━━━━━━━━━━━━━━━━━━━━━━━━━━━━━━━━━━━━━━━\u001b[0m \u001b[32m141.1/141.1 kB\u001b[0m \u001b[31m14.2 MB/s\u001b[0m eta \u001b[36m0:00:00\u001b[0m\n",
            "\u001b[?25hRequirement already satisfied: annotated-types>=0.4.0 in /usr/local/lib/python3.10/dist-packages (from pydantic<3,>=1->langchain) (0.6.0)\n",
            "Requirement already satisfied: pydantic-core==2.18.1 in /usr/local/lib/python3.10/dist-packages (from pydantic<3,>=1->langchain) (2.18.1)\n",
            "Requirement already satisfied: typing-extensions>=4.6.1 in /usr/local/lib/python3.10/dist-packages (from pydantic<3,>=1->langchain) (4.11.0)\n",
            "Requirement already satisfied: charset-normalizer<4,>=2 in /usr/local/lib/python3.10/dist-packages (from requests<3,>=2->langchain) (3.3.2)\n",
            "Requirement already satisfied: idna<4,>=2.5 in /usr/local/lib/python3.10/dist-packages (from requests<3,>=2->langchain) (3.7)\n",
            "Requirement already satisfied: urllib3<3,>=1.21.1 in /usr/local/lib/python3.10/dist-packages (from requests<3,>=2->langchain) (2.0.7)\n",
            "Requirement already satisfied: certifi>=2017.4.17 in /usr/local/lib/python3.10/dist-packages (from requests<3,>=2->langchain) (2024.2.2)\n",
            "Requirement already satisfied: greenlet!=0.4.17 in /usr/local/lib/python3.10/dist-packages (from SQLAlchemy<3,>=1.4->langchain) (3.0.3)\n",
            "Collecting mypy-extensions>=0.3.0 (from typing-inspect<1,>=0.4.0->dataclasses-json<0.7,>=0.5.7->langchain)\n",
            "  Downloading mypy_extensions-1.0.0-py3-none-any.whl (4.7 kB)\n",
            "Installing collected packages: packaging, orjson, mypy-extensions, jsonpointer, typing-inspect, marshmallow, jsonpatch, langsmith, dataclasses-json, langchain-core, langchain-text-splitters, langchain-community, langchain\n",
            "  Attempting uninstall: packaging\n",
            "    Found existing installation: packaging 24.0\n",
            "    Uninstalling packaging-24.0:\n",
            "      Successfully uninstalled packaging-24.0\n",
            "Successfully installed dataclasses-json-0.6.4 jsonpatch-1.33 jsonpointer-2.4 langchain-0.1.16 langchain-community-0.0.34 langchain-core-0.1.45 langchain-text-splitters-0.0.1 langsmith-0.1.50 marshmallow-3.21.1 mypy-extensions-1.0.0 orjson-3.10.1 packaging-23.2 typing-inspect-0.9.0\n"
          ]
        }
      ],
      "source": [
        "pip install langchain"
      ]
    },
    {
      "cell_type": "code",
      "execution_count": null,
      "metadata": {
        "colab": {
          "base_uri": "https://localhost:8080/"
        },
        "id": "BeZFb5UP0TYu",
        "outputId": "ecf2b203-fad6-4b88-c4c5-1587a4674e3a"
      },
      "outputs": [
        {
          "name": "stdout",
          "output_type": "stream",
          "text": [
            "\n",
            "\n",
            "Rainbow Feet Co.\n"
          ]
        }
      ],
      "source": [
        "from langchain.llms import OpenAI\n",
        "import os\n",
        "os.environ['OPENAI_API_KEY']=\"\"\n",
        "llm = OpenAI(temperature=0.9)  # model_name=\"text-davinci-003\"\n",
        "text = \"What would be a good company name for a company that makes colorful socks?\"\n",
        "print(llm(text))"
      ]
    },
    {
      "cell_type": "code",
      "execution_count": null,
      "metadata": {
        "id": "xkueGeLk1Tk5"
      },
      "outputs": [],
      "source": [
        "# Agents"
      ]
    },
    {
      "cell_type": "code",
      "execution_count": null,
      "metadata": {
        "colab": {
          "base_uri": "https://localhost:8080/"
        },
        "id": "zNFuOlkP1p9A",
        "outputId": "e4aec1bc-a7a6-4958-e872-64ea8fa3bbcb"
      },
      "outputs": [
        {
          "name": "stdout",
          "output_type": "stream",
          "text": [
            "Collecting google-search-results\n",
            "  Downloading google_search_results-2.4.2.tar.gz (18 kB)\n",
            "  Preparing metadata (setup.py) ... \u001b[?25l\u001b[?25hdone\n",
            "Requirement already satisfied: requests in /usr/local/lib/python3.10/dist-packages (from google-search-results) (2.31.0)\n",
            "Requirement already satisfied: charset-normalizer<4,>=2 in /usr/local/lib/python3.10/dist-packages (from requests->google-search-results) (3.3.2)\n",
            "Requirement already satisfied: idna<4,>=2.5 in /usr/local/lib/python3.10/dist-packages (from requests->google-search-results) (3.7)\n",
            "Requirement already satisfied: urllib3<3,>=1.21.1 in /usr/local/lib/python3.10/dist-packages (from requests->google-search-results) (2.0.7)\n",
            "Requirement already satisfied: certifi>=2017.4.17 in /usr/local/lib/python3.10/dist-packages (from requests->google-search-results) (2024.2.2)\n",
            "Building wheels for collected packages: google-search-results\n",
            "  Building wheel for google-search-results (setup.py) ... \u001b[?25l\u001b[?25hdone\n",
            "  Created wheel for google-search-results: filename=google_search_results-2.4.2-py3-none-any.whl size=32004 sha256=688340eaf9cfa7c8447338df2e5697e27419158802eea48144b42d13a535f61e\n",
            "  Stored in directory: /root/.cache/pip/wheels/d3/b2/c3/03302d12bb44a2cdff3c9371f31b72c0c4e84b8d2285eeac53\n",
            "Successfully built google-search-results\n",
            "Installing collected packages: google-search-results\n",
            "Successfully installed google-search-results-2.4.2\n"
          ]
        }
      ],
      "source": [
        "pip install google-search-results"
      ]
    },
    {
      "cell_type": "code",
      "execution_count": null,
      "metadata": {
        "colab": {
          "base_uri": "https://localhost:8080/",
          "height": 246
        },
        "id": "t6sylItW2z-j",
        "outputId": "56cb64ca-b95b-4037-cb81-2bbe96ddb5e6"
      },
      "outputs": [
        {
          "name": "stdout",
          "output_type": "stream",
          "text": [
            "\n",
            "\n",
            "\u001b[1m> Entering new AgentExecutor chain...\u001b[0m\n",
            "\u001b[32;1m\u001b[1;3m I should search for the current GDP of India\n",
            "Action: Search\n",
            "Action Input: \"current GDP of India\"\u001b[0m\n",
            "Observation: \u001b[36;1m\u001b[1;3m[\"India, officially the Republic of India, is a country in South Asia. It is the seventh-largest country by area; the most populous country as of June 2023; and from the time of its independence in 1947, the world's most populous democracy.\", 'India type: Country in South Asia.', 'India entity_type: countries, locations, travel, competitions, military, travel.', 'India kgmid: /m/03rk0.', 'India place_id: ChIJkbeSa_BfYzARphNChaFPjNc.', 'Real GDP growth. Annual percent change. 6.8 ; GDP, current prices. Billions of U.S. dollars. 3.94 ; GDP per capita, current prices. U.S. dollars per capita. 2.73.', 'GDP (current US$) - India from The World Bank: Data.', 'Economy of India ; 6.4% of GDP (2022–23) · ₹27.163 trillion (US$340 billion); (2023–24) · ₹45.031 trillion (US$560 billion); (2023–24) · Donor: Increase $4.234 ...', \"In 2019, GDP in India was at around 2.84 trillion U.S. dollars. See figures on India's economic growth here, and the Russian GDP for comparison.\", 'India. 3.94 thousand · United Kingdom. 3.5 thousand.', \"India's Current GDP (As of Q3 FY24): $4.11 trillion · India's GDP Growth Rate (Q3 FY24): 8.4%.\", 'Nominal (current) Gross Domestic Product (GDP) of India is $3,385,090,000,000 (USD) as of 2022. · Real GDP (constant, inflation adjusted) of India reached ...', 'Full Year GDP Growth in India increased to 7.60 percent in 2024 from 7 percent in 2023. This page includes a chart with historical data for India Full Year ...', 'Micronesia, Fed. Sts. 2022. 3,714.0. Moldova. 2022. 5,714.4.']\u001b[0m\n",
            "Thought:\u001b[32;1m\u001b[1;3m I now know the final answer\n",
            "Final Answer: The current GDP of India is $3,385,090,000,000 (USD) as of 2022.\u001b[0m\n",
            "\n",
            "\u001b[1m> Finished chain.\u001b[0m\n"
          ]
        },
        {
          "data": {
            "application/vnd.google.colaboratory.intrinsic+json": {
              "type": "string"
            },
            "text/plain": [
              "'The current GDP of India is $3,385,090,000,000 (USD) as of 2022.'"
            ]
          },
          "execution_count": 18,
          "metadata": {},
          "output_type": "execute_result"
        }
      ],
      "source": [
        "\n",
        "from langchain.agents import AgentType,initialize_agent,load_tools\n",
        "from langchain.llms import OpenAI\n",
        "import os\n",
        "\n",
        "os.environ[\"SERPAPI_API_KEY\"]=\"\"\n",
        "os.environ[\"OPENAI_API_KEY\"]=\"\"\n",
        "\n",
        "llm=OpenAI(temperature=0.1)\n",
        "\n",
        "tools=load_tools(['serpapi','llm-math'],llm=llm)\n",
        "agent=initialize_agent(tools,llm,agent=AgentType.ZERO_SHOT_REACT_DESCRIPTION,verbose=True)\n",
        "agent.run(\"what is the current GDP of india\")"
      ]
    },
    {
      "cell_type": "code",
      "execution_count": null,
      "metadata": {
        "colab": {
          "base_uri": "https://localhost:8080/"
        },
        "id": "M8Hmkgqb5kvP",
        "outputId": "34d90928-d595-43c5-f012-588741bcbc84"
      },
      "outputs": [
        {
          "name": "stdout",
          "output_type": "stream",
          "text": [
            "Collecting wikipedia\n",
            "  Downloading wikipedia-1.4.0.tar.gz (27 kB)\n",
            "  Preparing metadata (setup.py) ... \u001b[?25l\u001b[?25hdone\n",
            "Requirement already satisfied: beautifulsoup4 in /usr/local/lib/python3.10/dist-packages (from wikipedia) (4.12.3)\n",
            "Requirement already satisfied: requests<3.0.0,>=2.0.0 in /usr/local/lib/python3.10/dist-packages (from wikipedia) (2.31.0)\n",
            "Requirement already satisfied: charset-normalizer<4,>=2 in /usr/local/lib/python3.10/dist-packages (from requests<3.0.0,>=2.0.0->wikipedia) (3.3.2)\n",
            "Requirement already satisfied: idna<4,>=2.5 in /usr/local/lib/python3.10/dist-packages (from requests<3.0.0,>=2.0.0->wikipedia) (3.7)\n",
            "Requirement already satisfied: urllib3<3,>=1.21.1 in /usr/local/lib/python3.10/dist-packages (from requests<3.0.0,>=2.0.0->wikipedia) (2.0.7)\n",
            "Requirement already satisfied: certifi>=2017.4.17 in /usr/local/lib/python3.10/dist-packages (from requests<3.0.0,>=2.0.0->wikipedia) (2024.2.2)\n",
            "Requirement already satisfied: soupsieve>1.2 in /usr/local/lib/python3.10/dist-packages (from beautifulsoup4->wikipedia) (2.5)\n",
            "Building wheels for collected packages: wikipedia\n",
            "  Building wheel for wikipedia (setup.py) ... \u001b[?25l\u001b[?25hdone\n",
            "  Created wheel for wikipedia: filename=wikipedia-1.4.0-py3-none-any.whl size=11680 sha256=bbbeb394964b4159518e55fd4190948d9d957d213c0fca824887efb8d3b6c063\n",
            "  Stored in directory: /root/.cache/pip/wheels/5e/b6/c5/93f3dec388ae76edc830cb42901bb0232504dfc0df02fc50de\n",
            "Successfully built wikipedia\n",
            "Installing collected packages: wikipedia\n",
            "Successfully installed wikipedia-1.4.0\n"
          ]
        }
      ],
      "source": [
        "pip install wikipedia"
      ]
    },
    {
      "cell_type": "code",
      "execution_count": null,
      "metadata": {
        "colab": {
          "base_uri": "https://localhost:8080/",
          "height": 455
        },
        "id": "rSnN71Q34t7z",
        "outputId": "bdc1c012-8a59-468f-d491-cfff45a05f98"
      },
      "outputs": [
        {
          "name": "stdout",
          "output_type": "stream",
          "text": [
            "\n",
            "\n",
            "\u001b[1m> Entering new AgentExecutor chain...\u001b[0m\n",
            "\u001b[32;1m\u001b[1;3m I should use Wikipedia to find the answer\n",
            "Action: wikipedia\n",
            "Action Input: capital of Russia\u001b[0m\n",
            "Observation: \u001b[36;1m\u001b[1;3mPage: Moscow\n",
            "Summary: Moscow is the capital and largest city of Russia. The city stands on the Moskva River in Central Russia, with a population estimated at 13.0 million residents within the city limits, over 18.8 million residents in the urban area, and over 21.5 million residents in the metropolitan area. The city covers an area of 2,511 square kilometers (970 sq mi), while the urban area covers 5,891 square kilometers (2,275 sq mi), and the metropolitan area covers over 26,000 square kilometers (10,000 sq mi). Moscow is among the world's largest cities, being the most populous city in its entirety in Europe, the largest urban and metropolitan area in Europe, and the largest city by land area on the European continent.\n",
            "First documented in 1147, Moscow grew to serve as the capital of the Grand Duchy of Moscow. When the Tsardom of Russia was proclaimed, Moscow remained the political and economic center for most of its history. Under the reign of Peter the Great, the Russian capital was moved to the newly founded city of Saint Petersburg in 1712, decreasing Moscow's influence. Following the Russian Revolution and the establishment of the Russian SFSR, the capital was moved back to Moscow in 1918, where it later became the political center of the Soviet Union. In the aftermath of the dissolution of the Soviet Union, Moscow remained the capital city of the newly established Russian Federation.\n",
            "The northernmost and coldest megacity in the world, Moscow is governed as a federal city, where it serves as the political, economic, cultural, and scientific center of Russia and Eastern Europe. As an alpha world city, Moscow has one of the world's largest urban economies. The city is one of the fastest-growing tourist destinations in the world and is one of Europe's most visited cities. Moscow is inhabited by the sixth-highest number of billionaires of any city in the world. The Moscow International Business Center is one of the largest financial centers in Europe and the world and features the majority of Europe's tallest skyscrapers. Moscow was the host city of the 1980 Summer Olympics and one of the host cities of the 2018 FIFA World Cup.\n",
            "Moscow is the home of multiple Russian artists, scientists, and sports figures, along with  museums, academic and political institutions, and theaters. The city contains several UNESCO World Heritage Sites and is known for its display of Russian architecture, particularly in areas such as the Red Square and buildings such as the Saint Basil's Cathedral and the Moscow Kremlin, the latter of which is the seat of power of the Government of Russia. Moscow is home to Russian companies in different industries and is served by a comprehensive transit network, which includes four international airports, ten railway terminals, a tram system, a monorail system, and the Moscow Metro, which is the busiest metro system in Europe and one of the largest rapid transit systems in the world. The city has over 40 percent of its territory covered by greenery, making it one of the greenest cities in the world.\n",
            "\n",
            "Page: Capital punishment in Russia\n",
            "Summary: Capital punishment is a legal penalty in Russia, but is not used due to a moratorium and no death sentences or executions have been carried out since 2 August 1996. Russia has had an implicit moratorium in place since one was established by President Boris Yeltsin in 1996, and explicitly established by the Constitutional Court of Russia in 1999 and reaffirmed in 2009.\n",
            "\n",
            "\n",
            "\n",
            "Page: Capital Group (Russia)\n",
            "Summary: Capital Group (Russian: Капитал Груп) is a Russian development company founded in 1991, by Vladislav Doronin. Its area of activity is the integrated development of real estate projects. Capital Group took the first place in the Forbes rating of elite housing developers in Russia.\u001b[0m\n",
            "Thought:\u001b[32;1m\u001b[1;3m I now know the final answer\n",
            "Final Answer: The capital of Russia is Moscow.\u001b[0m\n",
            "\n",
            "\u001b[1m> Finished chain.\u001b[0m\n"
          ]
        },
        {
          "data": {
            "application/vnd.google.colaboratory.intrinsic+json": {
              "type": "string"
            },
            "text/plain": [
              "'The capital of Russia is Moscow.'"
            ]
          },
          "execution_count": 21,
          "metadata": {},
          "output_type": "execute_result"
        }
      ],
      "source": [
        "\n",
        "from langchain.agents import AgentType,initialize_agent,load_tools\n",
        "from langchain.llms import OpenAI\n",
        "import os\n",
        "\n",
        "os.environ[\"SERPAPI_API_KEY\"]=\"\"\n",
        "os.environ[\"OPENAI_API_KEY\"]=\"\"\n",
        "\n",
        "llm=OpenAI(temperature=0.1)\n",
        "\n",
        "tools=load_tools(['wikipedia','llm-math'],llm=llm)\n",
        "agent=initialize_agent(tools,llm,agent=AgentType.ZERO_SHOT_REACT_DESCRIPTION,verbose=True)\n",
        "agent.run(\"what is the capital of Russia?\")"
      ]
    },
    {
      "cell_type": "code",
      "execution_count": null,
      "metadata": {
        "id": "vMhsuvh41xE5"
      },
      "outputs": [],
      "source": [
        "# Chains"
      ]
    },
    {
      "cell_type": "code",
      "execution_count": null,
      "metadata": {
        "colab": {
          "base_uri": "https://localhost:8080/"
        },
        "id": "PpBKC9n7FHpw",
        "outputId": "7a929034-f862-4e59-e730-3413589d1d86"
      },
      "outputs": [
        {
          "name": "stdout",
          "output_type": "stream",
          "text": [
            "\n",
            "\n",
            "Tata Consultancy Services (TCS)\n"
          ]
        }
      ],
      "source": [
        "from langchain.prompts import PromptTemplate\n",
        "from langchain.chains import LLMChain\n",
        "from langchain.llms import OpenAI\n",
        "import os\n",
        "os.environ['OPENAI_API_KEY']=\"\"\n",
        "llm=OpenAI(temperature=0.1)\n",
        "prompt=PromptTemplate.from_template(\"Best {name} company name in India in terms of Revenue. Provide only Name\")\n",
        "chain=LLMChain(llm=llm,prompt=prompt)\n",
        "resp=chain.run(\"IT\")\n",
        "print(resp)"
      ]
    },
    {
      "cell_type": "code",
      "execution_count": null,
      "metadata": {
        "colab": {
          "base_uri": "https://localhost:8080/"
        },
        "id": "UdDgUPNMHZCx",
        "outputId": "961bd47c-8557-4fcd-af56-59f23f12ec09"
      },
      "outputs": [
        {
          "name": "stdout",
          "output_type": "stream",
          "text": [
            "\n",
            "\n",
            "Tata Consultancy Services (TCS)\n"
          ]
        }
      ],
      "source": [
        "llm=OpenAI(temperature=0.1)\n",
        "prompt=PromptTemplate(input_variables=[\"name\"],\n",
        "                      template=\"Best {name} company name in India in terms of Revenue. Provide only Name\")\n",
        "chain=LLMChain(llm=llm,prompt=prompt)\n",
        "resp=chain.run(\"IT\")\n",
        "print(resp)"
      ]
    },
    {
      "cell_type": "code",
      "execution_count": null,
      "metadata": {
        "colab": {
          "base_uri": "https://localhost:8080/"
        },
        "id": "_XhMk3cNISFi",
        "outputId": "8823dbf5-0e02-4053-fc41-23187bde912e"
      },
      "outputs": [
        {
          "name": "stdout",
          "output_type": "stream",
          "text": [
            " is a multinational information technology (IT) services, consulting, and business solutions company headquartered in Mumbai, India. It is one of the largest IT services companies in the world, with a presence in over 46 countries and a workforce of over 469,000 employees.\n",
            "\n",
            "TCS was founded in 1968 by Tata Sons, the holding company of the Tata Group, as a division of Tata Sons. It started as a management and technology consultancy firm, but later expanded into IT services. In 1981, TCS became the first Indian company to set up an offshore development center in the United States.\n",
            "\n",
            "Over the years, TCS has grown to become a global leader in the IT industry, providing a wide range of services including application development and maintenance, infrastructure management, engineering and industrial services, digital transformation, and consulting. It serves clients in various industries such as banking and financial services, insurance, healthcare, retail, manufacturing, and telecommunications.\n",
            "\n",
            "TCS has a strong focus on innovation and has established several research and development centers around the world. It has also made significant investments in emerging technologies such as artificial intelligence, cloud computing, and Internet of Things (IoT) to stay ahead of the curve and provide cutting-edge solutions to its clients.\n",
            "\n",
            "Apart from its core IT services\n"
          ]
        }
      ],
      "source": [
        "from langchain.chains import SimpleSequentialChain\n",
        "llm=OpenAI(temperature=0.1)\n",
        "name_prompt=PromptTemplate(input_variables=[\"Industry\"],\n",
        "                      template=\"Best {Industry} company name in India in terms of Revenue. Provide only Name\")\n",
        "Industry_name_chain=LLMChain(llm=llm,prompt=name_prompt)\n",
        "\n",
        "\n",
        "desc_prompt=PromptTemplate(input_variables=[\"company_name\"],\n",
        "                      template=\"Describe about {company_name}\")\n",
        "\n",
        "desc_chain=LLMChain(llm=llm,prompt=desc_prompt)\n",
        "\n",
        "\n",
        "ss_chain=SimpleSequentialChain(chains=[Industry_name_chain,desc_chain])\n",
        "\n",
        "resp=ss_chain.run(\"IT\")\n",
        "print(resp)"
      ]
    },
    {
      "cell_type": "code",
      "execution_count": null,
      "metadata": {
        "colab": {
          "base_uri": "https://localhost:8080/"
        },
        "id": "9rcmXfwmJjpb",
        "outputId": "8172f9e1-aa70-4bdd-e515-14afb3ed17d8"
      },
      "outputs": [
        {
          "data": {
            "text/plain": [
              "{'Industry': 'IT',\n",
              " 'company_name': '\\n\\nTata Consultancy Services (TCS)',\n",
              " 'description': ' is a multinational information technology (IT) services, consulting, and business solutions company headquartered in Mumbai, India. It is one of the largest IT services companies in the world, with a presence in over 46 countries and a workforce of over 469,000 employees.\\n\\nTCS was founded in 1968 by Tata Sons, the holding company of the Tata Group, as a division of Tata Sons. It initially provided punched card services to other group companies, but later expanded into software services. In 1981, TCS became an independent company and began offering IT services to clients outside of the Tata Group.\\n\\nOver the years, TCS has grown to become a global leader in the IT industry, providing a wide range of services including application development and maintenance, infrastructure management, engineering and industrial services, digital transformation, and consulting. It serves clients in various industries such as banking and financial services, insurance, healthcare, retail, manufacturing, and telecommunications.\\n\\nTCS has a strong focus on innovation and has established research and development centers in India, the United States, and Europe. It has also made significant investments in emerging technologies such as artificial intelligence, cloud computing, and Internet of Things (IoT) to help its clients stay ahead in the digital age.\\n\\nIn addition to its'}"
            ]
          },
          "execution_count": 35,
          "metadata": {},
          "output_type": "execute_result"
        }
      ],
      "source": [
        "from langchain.chains import SequentialChain\n",
        "llm=OpenAI(temperature=0.1)\n",
        "name_prompt=PromptTemplate(input_variables=[\"Industry\"],\n",
        "                      template=\"Best {Industry} company name in India in terms of Revenue. Provide only Name\")\n",
        "Industry_name_chain=LLMChain(llm=llm,prompt=name_prompt,output_key=\"company_name\")\n",
        "\n",
        "\n",
        "desc_prompt=PromptTemplate(input_variables=[\"company_name\"],\n",
        "                      template=\"Describe about {company_name}\")\n",
        "\n",
        "desc_chain=LLMChain(llm=llm,prompt=desc_prompt,output_key=\"description\")\n",
        "\n",
        "\n",
        "ss_chain=SequentialChain(chains=[Industry_name_chain,desc_chain],\n",
        "                         input_variables=[\"Industry\"],\n",
        "                         output_variables=[\"company_name\",\"description\"])\n",
        "\n",
        "# resp=ss_chain.run(\"IT\")\n",
        "# print(resp)\n",
        "ss_chain({\"Industry\":\"IT\"})"
      ]
    },
    {
      "cell_type": "code",
      "execution_count": null,
      "metadata": {
        "id": "YyGvbGB1KKsd"
      },
      "outputs": [],
      "source": [
        "# Memory"
      ]
    },
    {
      "cell_type": "code",
      "execution_count": null,
      "metadata": {
        "id": "e6yhHkx2FwDE"
      },
      "outputs": [],
      "source": [
        "# pip install langchain\n",
        "# !pip install openai"
      ]
    },
    {
      "cell_type": "code",
      "execution_count": null,
      "metadata": {
        "colab": {
          "base_uri": "https://localhost:8080/"
        },
        "id": "YpgxFHPaMLlX",
        "outputId": "9fd6f769-8245-48a8-bb0f-9ac9ddafa296"
      },
      "outputs": [
        {
          "name": "stdout",
          "output_type": "stream",
          "text": [
            "None\n"
          ]
        }
      ],
      "source": [
        "from langchain.prompts import PromptTemplate\n",
        "from langchain.chains import LLMChain\n",
        "from langchain.llms import OpenAI\n",
        "import os\n",
        "os.environ['OPENAI_API_KEY']=\"\"\n",
        "llm=OpenAI(temperature=0.1)\n",
        "prompt=PromptTemplate.from_template(\"Best {name} company name in India in terms of Revenue. Provide only Name\")\n",
        "chain=LLMChain(llm=llm,prompt=prompt)\n",
        "resp=chain.run(\"IT\")\n",
        "print(chain.memory)"
      ]
    },
    {
      "cell_type": "code",
      "execution_count": null,
      "metadata": {
        "colab": {
          "base_uri": "https://localhost:8080/"
        },
        "id": "1DW2OrP4GO2a",
        "outputId": "2a4b1102-39dc-4d8e-ec12-547edc30e2cc"
      },
      "outputs": [
        {
          "name": "stdout",
          "output_type": "stream",
          "text": [
            "Human: IT\n",
            "AI: \n",
            "\n",
            "Tata Consultancy Services (TCS)\n",
            "Human: Retail\n",
            "AI: \n",
            "\n",
            "Reliance Retail\n"
          ]
        }
      ],
      "source": [
        "from langchain.memory import ConversationBufferMemory\n",
        "from langchain.prompts import PromptTemplate\n",
        "from langchain.chains import LLMChain\n",
        "from langchain.llms import OpenAI\n",
        "import os\n",
        "memory=ConversationBufferMemory()\n",
        "os.environ['OPENAI_API_KEY']=\"\"\n",
        "llm=OpenAI(temperature=0.1)\n",
        "prompt=PromptTemplate.from_template(\"Best {name} company name in India in terms of Revenue. Provide only Name\")\n",
        "chain=LLMChain(llm=llm,prompt=prompt,memory=memory)\n",
        "resp=chain.run(\"IT\")\n",
        "resp=chain.run(\"Retail\")\n",
        "print(chain.memory.buffer)"
      ]
    },
    {
      "cell_type": "code",
      "execution_count": null,
      "metadata": {
        "colab": {
          "base_uri": "https://localhost:8080/"
        },
        "id": "BrwVgdk8HASh",
        "outputId": "e8ea4a9a-213a-4300-f809-6894e9c47553"
      },
      "outputs": [
        {
          "name": "stdout",
          "output_type": "stream",
          "text": [
            "Human: Retail\n",
            "AI: \n",
            "\n",
            "Reliance Retail Ltd.\n"
          ]
        }
      ],
      "source": [
        "from langchain.memory import ConversationBufferWindowMemory\n",
        "from langchain.prompts import PromptTemplate\n",
        "from langchain.chains import LLMChain\n",
        "from langchain.llms import OpenAI\n",
        "import os\n",
        "memory=ConversationBufferWindowMemory(k=1)\n",
        "os.environ['OPENAI_API_KEY']=\"\"\n",
        "llm=OpenAI(temperature=0.1)\n",
        "prompt=PromptTemplate.from_template(\"Best {name} company name in India in terms of Revenue. Provide only Name\")\n",
        "chain=LLMChain(llm=llm,prompt=prompt,memory=memory)\n",
        "resp=chain.run(\"IT\")\n",
        "resp=chain.run(\"Retail\")\n",
        "print(chain.memory.buffer)"
      ]
    }
  ],
  "metadata": {
    "colab": {
      "provenance": []
    },
    "kernelspec": {
      "display_name": "Python 3",
      "name": "python3"
    },
    "language_info": {
      "name": "python"
    }
  },
  "nbformat": 4,
  "nbformat_minor": 0
}
