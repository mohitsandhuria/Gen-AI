{
 "cells": [
  {
   "cell_type": "code",
   "execution_count": 5,
   "metadata": {},
   "outputs": [],
   "source": [
    "## building sample chroma vector DB\n",
    "\n",
    "from langchain_chroma import Chroma\n",
    "from langchain_community.document_loaders import TextLoader\n",
    "from langchain_huggingface import HuggingFaceEmbeddings\n",
    "from langchain_text_splitters import RecursiveCharacterTextSplitter"
   ]
  },
  {
   "cell_type": "code",
   "execution_count": 6,
   "metadata": {},
   "outputs": [],
   "source": [
    "import os\n",
    "from dotenv import load_dotenv\n",
    "load_dotenv()\n",
    "os.environ[\"HF_TOKEN\"]=os.getenv(\"HF_TOKEN\")"
   ]
  },
  {
   "cell_type": "code",
   "execution_count": 7,
   "metadata": {},
   "outputs": [
    {
     "data": {
      "text/plain": [
       "[Document(metadata={'source': 'speech.txt'}, page_content='The Burj Khalifa[a] (known as the Burj Dubai prior to its inauguration) is a skyscraper in Dubai, United Arab Emirates. It is the world\\'s tallest structure. With a total height of 829.8 m (2,722 ft, or just over half a mile) and a roof height (excluding antenna, but including a 242.6 m spire)[2] of 828 m (2,717 ft), the Burj Khalifa has been the tallest structure and building in the world since its topping out in 2009, surpassing Taipei 101, the previous holder of that status.[3][4]\\n\\nConstruction of the Burj Khalifa began in 2004, with the exterior completed five years later in 2009. The primary structure is reinforced concrete and some of the structural steel for the building originated from the Palace of the Republic in East Berlin, the former East German parliament.[5] The building was opened in 2010 as part of a new development called Downtown Dubai. It was designed to be the centerpiece of large-scale, mixed-use development.\\n\\nThe building is named for the former president of the United Arab Emirates (UAE), Sheikh Khalifa bin Zayed Al Nahyan.[6] The United Arab Emirates government provided Dubai with financial support as the developer, Emaar Properties, experienced financial problems during the 2007-2008 financial crisis. Then president of the United Arab Emirates, Khalifa bin Zayed, organized federal financial support. For his support, Mohammad bin Rashid, Ruler of Dubai, changed the name from \"Burj Dubai\" to \"Burj Khalifa\" during inauguration.\\n\\nThe design is derived from the Islamic architecture of the region, such as in the Great Mosque of Samarra. The Y-shaped tripartite floor geometry is designed to optimise residential and hotel space. A buttressed central core and wings are used to support the height of the building. Although this design was derived from Tower Palace III, the Burj Khalifa\\'s central core houses all vertical transportation except egress stairs within each of the wings.[7] The structure also features a cladding system which is designed to withstand Dubai\\'s hot summer temperatures. [8] It contains a total of 57 elevators and 8 escalators.')]"
      ]
     },
     "execution_count": 7,
     "metadata": {},
     "output_type": "execute_result"
    }
   ],
   "source": [
    "loader=TextLoader(\"speech.txt\")\n",
    "data=loader.load()\n",
    "data"
   ]
  },
  {
   "cell_type": "code",
   "execution_count": 8,
   "metadata": {},
   "outputs": [
    {
     "data": {
      "text/plain": [
       "[Document(metadata={'source': 'speech.txt'}, page_content='The Burj Khalifa[a] (known as the Burj Dubai prior to its inauguration) is a skyscraper in Dubai,'),\n",
       " Document(metadata={'source': 'speech.txt'}, page_content=\"in Dubai, United Arab Emirates. It is the world's tallest structure. With a total height of 829.8 m\"),\n",
       " Document(metadata={'source': 'speech.txt'}, page_content='height of 829.8 m (2,722 ft, or just over half a mile) and a roof height (excluding antenna, but'),\n",
       " Document(metadata={'source': 'speech.txt'}, page_content='antenna, but including a 242.6 m spire)[2] of 828 m (2,717 ft), the Burj Khalifa has been the'),\n",
       " Document(metadata={'source': 'speech.txt'}, page_content='has been the tallest structure and building in the world since its topping out in 2009, surpassing'),\n",
       " Document(metadata={'source': 'speech.txt'}, page_content='in 2009, surpassing Taipei 101, the previous holder of that status.[3][4]'),\n",
       " Document(metadata={'source': 'speech.txt'}, page_content='Construction of the Burj Khalifa began in 2004, with the exterior completed five years later in'),\n",
       " Document(metadata={'source': 'speech.txt'}, page_content='five years later in 2009. The primary structure is reinforced concrete and some of the structural'),\n",
       " Document(metadata={'source': 'speech.txt'}, page_content='of the structural steel for the building originated from the Palace of the Republic in East Berlin,'),\n",
       " Document(metadata={'source': 'speech.txt'}, page_content='in East Berlin, the former East German parliament.[5] The building was opened in 2010 as part of a'),\n",
       " Document(metadata={'source': 'speech.txt'}, page_content='2010 as part of a new development called Downtown Dubai. It was designed to be the centerpiece of'),\n",
       " Document(metadata={'source': 'speech.txt'}, page_content='the centerpiece of large-scale, mixed-use development.'),\n",
       " Document(metadata={'source': 'speech.txt'}, page_content='The building is named for the former president of the United Arab Emirates (UAE), Sheikh Khalifa'),\n",
       " Document(metadata={'source': 'speech.txt'}, page_content='Sheikh Khalifa bin Zayed Al Nahyan.[6] The United Arab Emirates government provided Dubai with'),\n",
       " Document(metadata={'source': 'speech.txt'}, page_content='provided Dubai with financial support as the developer, Emaar Properties, experienced financial'),\n",
       " Document(metadata={'source': 'speech.txt'}, page_content='financial problems during the 2007-2008 financial crisis. Then president of the United Arab'),\n",
       " Document(metadata={'source': 'speech.txt'}, page_content='of the United Arab Emirates, Khalifa bin Zayed, organized federal financial support. For his'),\n",
       " Document(metadata={'source': 'speech.txt'}, page_content='support. For his support, Mohammad bin Rashid, Ruler of Dubai, changed the name from \"Burj Dubai\"'),\n",
       " Document(metadata={'source': 'speech.txt'}, page_content='from \"Burj Dubai\" to \"Burj Khalifa\" during inauguration.'),\n",
       " Document(metadata={'source': 'speech.txt'}, page_content='The design is derived from the Islamic architecture of the region, such as in the Great Mosque of'),\n",
       " Document(metadata={'source': 'speech.txt'}, page_content='the Great Mosque of Samarra. The Y-shaped tripartite floor geometry is designed to optimise'),\n",
       " Document(metadata={'source': 'speech.txt'}, page_content='to optimise residential and hotel space. A buttressed central core and wings are used to support'),\n",
       " Document(metadata={'source': 'speech.txt'}, page_content='are used to support the height of the building. Although this design was derived from Tower Palace'),\n",
       " Document(metadata={'source': 'speech.txt'}, page_content=\"from Tower Palace III, the Burj Khalifa's central core houses all vertical transportation except\"),\n",
       " Document(metadata={'source': 'speech.txt'}, page_content='except egress stairs within each of the wings.[7] The structure also features a cladding system'),\n",
       " Document(metadata={'source': 'speech.txt'}, page_content=\"a cladding system which is designed to withstand Dubai's hot summer temperatures. [8] It contains a\"),\n",
       " Document(metadata={'source': 'speech.txt'}, page_content='[8] It contains a total of 57 elevators and 8 escalators.')]"
      ]
     },
     "execution_count": 8,
     "metadata": {},
     "output_type": "execute_result"
    }
   ],
   "source": [
    "text_splitter=RecursiveCharacterTextSplitter(chunk_size=100,chunk_overlap=20)\n",
    "text=text_splitter.split_documents(data)\n",
    "text"
   ]
  },
  {
   "cell_type": "code",
   "execution_count": 9,
   "metadata": {},
   "outputs": [
    {
     "name": "stderr",
     "output_type": "stream",
     "text": [
      "e:\\Mohit\\Gen AI\\Gen AI\\env1\\Lib\\site-packages\\sentence_transformers\\cross_encoder\\CrossEncoder.py:11: TqdmWarning: IProgress not found. Please update jupyter and ipywidgets. See https://ipywidgets.readthedocs.io/en/stable/user_install.html\n",
      "  from tqdm.autonotebook import tqdm, trange\n"
     ]
    }
   ],
   "source": [
    "embedding= HuggingFaceEmbeddings(model_name=\"all-MiniLM-L6-v2\")"
   ]
  },
  {
   "cell_type": "code",
   "execution_count": 10,
   "metadata": {},
   "outputs": [],
   "source": [
    "chroma_vector_store=Chroma.from_documents(text,embedding=embedding)"
   ]
  },
  {
   "cell_type": "code",
   "execution_count": 13,
   "metadata": {},
   "outputs": [
    {
     "data": {
      "text/plain": [
       "'[8] It contains a total of 57 elevators and 8 escalators.'"
      ]
     },
     "execution_count": 13,
     "metadata": {},
     "output_type": "execute_result"
    }
   ],
   "source": [
    "query=\"How many elevators and escalators does burj khalifa has?\"\n",
    "docs=chroma_vector_store.similarity_search(query=query)\n",
    "docs[0].page_content"
   ]
  },
  {
   "cell_type": "code",
   "execution_count": 14,
   "metadata": {},
   "outputs": [],
   "source": [
    "### saving and loading\n",
    "chroma_vector_store=Chroma.from_documents(text,embedding=embedding,persist_directory=\"./chroma_db\")"
   ]
  },
  {
   "cell_type": "code",
   "execution_count": 15,
   "metadata": {},
   "outputs": [
    {
     "data": {
      "text/plain": [
       "'[8] It contains a total of 57 elevators and 8 escalators.'"
      ]
     },
     "execution_count": 15,
     "metadata": {},
     "output_type": "execute_result"
    }
   ],
   "source": [
    "new_db=Chroma(persist_directory=\"./chroma_db\",embedding_function=embedding)\n",
    "doc=new_db.similarity_search(query=query)\n",
    "doc[0].page_content\n"
   ]
  },
  {
   "cell_type": "code",
   "execution_count": 16,
   "metadata": {},
   "outputs": [
    {
     "data": {
      "text/plain": [
       "[(Document(metadata={'source': 'speech.txt'}, page_content='[8] It contains a total of 57 elevators and 8 escalators.'),\n",
       "  0.5425519941527893),\n",
       " (Document(metadata={'source': 'speech.txt'}, page_content='antenna, but including a 242.6 m spire)[2] of 828 m (2,717 ft), the Burj Khalifa has been the'),\n",
       "  0.8253799828454025),\n",
       " (Document(metadata={'source': 'speech.txt'}, page_content=\"from Tower Palace III, the Burj Khalifa's central core houses all vertical transportation except\"),\n",
       "  0.8711452400883476),\n",
       " (Document(metadata={'source': 'speech.txt'}, page_content='from \"Burj Dubai\" to \"Burj Khalifa\" during inauguration.'),\n",
       "  0.9609055641747838)]"
      ]
     },
     "execution_count": 16,
     "metadata": {},
     "output_type": "execute_result"
    }
   ],
   "source": [
    "new_db.similarity_search_with_score(query=query)"
   ]
  },
  {
   "cell_type": "code",
   "execution_count": 18,
   "metadata": {},
   "outputs": [
    {
     "data": {
      "text/plain": [
       "'[8] It contains a total of 57 elevators and 8 escalators.'"
      ]
     },
     "execution_count": 18,
     "metadata": {},
     "output_type": "execute_result"
    }
   ],
   "source": [
    "### retriever\n",
    "\n",
    "retriever=new_db.as_retriever()\n",
    "retriever.invoke(query)[0].page_content"
   ]
  },
  {
   "cell_type": "code",
   "execution_count": null,
   "metadata": {},
   "outputs": [],
   "source": []
  },
  {
   "cell_type": "code",
   "execution_count": null,
   "metadata": {},
   "outputs": [],
   "source": []
  },
  {
   "cell_type": "code",
   "execution_count": null,
   "metadata": {},
   "outputs": [],
   "source": []
  }
 ],
 "metadata": {
  "kernelspec": {
   "display_name": "env1",
   "language": "python",
   "name": "python3"
  },
  "language_info": {
   "codemirror_mode": {
    "name": "ipython",
    "version": 3
   },
   "file_extension": ".py",
   "mimetype": "text/x-python",
   "name": "python",
   "nbconvert_exporter": "python",
   "pygments_lexer": "ipython3",
   "version": "3.11.0"
  }
 },
 "nbformat": 4,
 "nbformat_minor": 2
}
