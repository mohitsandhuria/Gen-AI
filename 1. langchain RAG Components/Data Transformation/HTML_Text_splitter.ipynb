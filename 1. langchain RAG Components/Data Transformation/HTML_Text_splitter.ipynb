{
 "cells": [
  {
   "cell_type": "code",
   "execution_count": 3,
   "metadata": {},
   "outputs": [
    {
     "data": {
      "text/plain": [
       "[Document(metadata={'Header 1': 'Hello, Mohit!', 'Header 2': 'This is my first web page.'}, page_content='It contains a main heading and paragraph .')]"
      ]
     },
     "execution_count": 3,
     "metadata": {},
     "output_type": "execute_result"
    }
   ],
   "source": [
    "from langchain_text_splitters import HTMLHeaderTextSplitter\n",
    "\n",
    "html_code=\"\"\"\n",
    "<!DOCTYPE html>\n",
    "<html>\n",
    "    <head>\n",
    "        <title>My web page</title>\n",
    "    </head>\n",
    "    <body>\n",
    "        <h1>Hello, world!</h1>\n",
    "        <h1>Hello, Mohit!</h1>\n",
    "        <h2>This is my first web page.</h2>\n",
    "        <p>It contains a \n",
    "             <strong>main heading</strong> and <em> paragraph </em>.\n",
    "        </p>\n",
    "    </body>\n",
    "</html>\n",
    "\"\"\"\n",
    "\n",
    "header_split_on=[('h1','Header 1'),\n",
    "                 ('h2','Header 2')]\n",
    "\n",
    "html_split=HTMLHeaderTextSplitter(headers_to_split_on=header_split_on)\n",
    "\n",
    "html_loader=html_split.split_text(html_code)\n",
    "html_loader\n"
   ]
  },
  {
   "cell_type": "code",
   "execution_count": 5,
   "metadata": {},
   "outputs": [
    {
     "data": {
      "text/plain": [
       "[Document(page_content='Courses Tutorials Examples  \\nTry Programiz PRO  \\nCourse Index Explore Programiz  \\nPython JavaScript SQL HTML R C C++ Java RUST Golang Kotlin Swift C# DSA  \\nPopular Tutorials Start Learning HTML  \\nHTML Basics  \\nHTML Table  \\nHTML List  \\nHTML Line Break  \\nHTML div Tag  \\nLearning Paths  \\nChallenges  \\nLearn Python Interactively Try Programiz PRO  \\nCourses  \\nView all Courses  \\nInteractive SQL Course  \\nInteractive C Course  \\nInteractive Java Course  \\nPython  \\nJavaScript  \\nSQL  \\nHTML  \\nR  \\nC  \\nC++  \\nJava  \\nMore languages  \\nPopular Tutorials Start Learning HTML All HTML Tutorials  \\nHTML Basics  \\nHTML Table  \\nHTML List  \\nHTML Line Break  \\nHTML div Tag  \\nPython  \\nJavaScript  \\nR  \\nC  \\nC++  \\nJava  \\nKotlin  \\nPopular Examples All Python Examples  \\nAdd two numbers  \\nCheck prime number  \\nFind the factorial of a number  \\nPrint the Fibonacci sequence  \\nCheck leap year  \\nIntroductionHTML BasicsHTML InlineHTML HeadHTML FormSemantic HTMLHTML, CSS & JavaScriptGraphics & MediaHTML Miscellaneous  \\nWhat is HTML?HTML BasicsHTML Web Design Basics  \\nHTML ParagraphsHTML HeadingsHTML CommentsHTML TableHTML ListHTML Unordered ListHTML Ordered ListHTML Description ListHTML Line BreakHTML Pre TagHTML Horizontal Line  \\nHTML Block and InlineHTML LinksHTML ImagesHTML BoldHTML ItalicHTML Superscript and SubscriptHTML Formatting  \\nHTML HeadHTML TitleHTML StyleHTML Meta ElementsHTML Favicon  \\nHTML FormHTML Form ElementsHTML InputHTML Form Action  \\nHTML Semantic HTMLHTML div TagHTML aside TagHTML section TagHTML footer TagHTML main TagHTML figure and figcaptionHTML Accessibility  \\nHTML ClassHTML IDHTML LayoutHTML Responsive Web DesignHTML and JavaScript  \\nHTML VideoHTML AudioHTML SVGHTML Canvas  \\nHTML IframesHTML EntitiesHTML QuotationsHTML File PathsHTML EmojisHTML SymbolsHTML NBSP  \\nWeb Tutorials  \\nHTML Head  \\nHTML <main> Tag  \\nHTML Meta Elements  \\nWhat is HTML?  \\nWeb Design Basics: How HTML, CSS and JavaScript Work?  \\nHTML Id  \\nHTML Basics'),\n",
       " Document(metadata={'Header 1': 'HTML Basics'}, page_content='HTML Hierarchy <!DOCTYPE html> <html> <head> <title>My web page</title> </head> <body> <h1>Hello, world!</h1> <p>This is my first web page.</p> <p>It contains a <strong>main heading</strong> and <em> paragraph </em>. </p> </body> </html> What are HTML elements? What are HTML Attributes? <a href=\"http://example.com\"> Example </a> HTML Syntax <span>Some text.</span> <a target=\"www.google.com\">Click Here</a> <html> <head> <title>My First HTML Page</title> </head> <body> <h1>My First HTML Page</h1> <p> Hello World!</p> </body> </html>  \\nHTML (HyperText Markup Language) is a markup language used to structure and organize the content on a web page. It uses various tags to define the different elements on a page, such as headings, paragraphs, and links.'),\n",
       " Document(metadata={'Header 1': 'HTML Basics', 'Header 2': 'HTML Hierarchy'}, page_content=\"HTML elements are hierarchical, which means that they can be nested inside each other to create a tree-like structure of the content on the web page.  \\nThis hierarchical structure is called the DOM (Document Object Model), and it is used by the web browser to render the web page. For example,  \\nBrowser Output  \\nIn this example, the html element is the root element of the hierarchy and contains two child elements: head and body. The head element, in turn, contains a child element called the title, and the body element contains child elements: h1 and p.  \\nLet's see the meaning of the various elements used in the above example.  \\n<html>: the root element of the DOM, and it contains all of the other elements in the code <head>: contains metadata about the web page, such as the title and any linked CSS or JavaScript files <title>: contains the title of the web page, which will be displayed in the web browser's title bar or tab <body>: contains the main content of the web page, which will be displayed in the web browser's window <p>: contains the paragraphs of text on the web page <strong>, <em>: child elements of the <p> elements, they are used to mark text as important and emphasized respectively  \\nNote: Only the elements inside the <body> tag renders in the web browser.\"),\n",
       " Document(metadata={'Header 1': 'HTML Basics', 'Header 2': 'What are HTML elements?'}, page_content=\"HTML elements consist of several parts, including the opening and closing tags, the content, and the attributes. Here is an explanation of each of these parts:  \\nHere,  \\nThe opening tag: This consists of the element name, wrapped in angle brackets. It indicates the start of the element and the point at which the element's effects begin. The closing tag: This is the same as the opening tag, but with a forward slash before the element name. It indicates the end of the element and the point at which the element's effects stop. The content: This is the content of the element, which can be text, other elements, or a combination of both. The element: The opening tag, the closing tag, and the content together make up the element.\"),\n",
       " Document(metadata={'Header 1': 'HTML Basics', 'Header 2': 'What are HTML Attributes?'}, page_content=\"HTML elements can have attributes, which provide additional information about the element. They are specified in the opening tag of the element and take the form of name-value pairs. Let's see an example:  \\nThe href is an attribute. It provides the link information about the <a> tag. In the above example,  \\nhref - the name of attribute https://www.programiz.com - the value of attribute  \\nNote: HTML attributes are mostly optional.\"),\n",
       " Document(metadata={'Header 1': 'HTML Basics', 'Header 2': 'HTML Syntax'}, page_content='We need to follow a strict syntax guidelines to write valid HTML code. This includes the use of tags, elements, and attributes, as well as the correct use of indentation and white space. Here are some key points about HTML syntax:  \\n1. HTML tags consist of the element name, wrapped in angle brackets. For example, <h1>, <p>, <img> are some HTML tags.  \\n2. HTML elements are created by enclosing the content of the element inside the opening and closing tags of the element. For example,  \\nis an HTML element.  \\n3. HTML attributes are used to provide additional information about HTML elements and are specified in the opening tag of the element. For example,  \\nHere, target is an attribute.  \\n4. HTML code should be well-formed and properly indented, with each element on its own line and each level of hierarchy indented by one level. This makes the code easier to read and understand, and can help to avoid errors. For example,'),\n",
       " Document(metadata={'Header 1': 'HTML Basics'}, page_content='Table of Contents  \\nIntroduction HTML Hierarchy What are HTML elements? What are HTML Attributes? HTML Syntax'),\n",
       " Document(page_content='Previous Tutorial:  \\nWhat is HTML?  \\nNext Tutorial:  \\nHTML Web Design Basics  \\nRelated Tutorials  \\nProgramming  \\nHTML Tag  \\nProgramming  \\nHTML Head  \\nProgramming  \\nWhat is HTML?  \\nProgramming  \\nWeb Design Basics: How HTML, CSS and JavaScript Work?  \\nJoin our newsletter for the latest updates.  \\nThis is required.  \\nJoin  \\nJoin our newsletter for the latest updates.  \\nThis is required.  \\nJoin  \\nTutorials  \\nPython 3 Tutorial JavaScript Tutorial SQL Tutorial HTML Tutorial R Tutorial C Tutorial C++ Tutorial Java Tutorial Rust Tutorial Go Tutorial Kotlin Tutorial Swift Tutorial C# Tutorial DSA Tutorial  \\nExamples  \\nPython Examples JavaScript Examples C Examples Java Examples Kotlin Examples C++ Examples  \\nCompany  \\nChange Ad Consent Do not sell my data About Advertising Privacy Policy Terms & Conditions Contact Blog Careers Youtube  \\nApps  \\nLearn Python Learn C Programming Learn Java  \\n© Parewa Labs Pvt. Ltd. All rights reserved.')]"
      ]
     },
     "execution_count": 5,
     "metadata": {},
     "output_type": "execute_result"
    }
   ],
   "source": [
    "from langchain_text_splitters import HTMLHeaderTextSplitter\n",
    "\n",
    "html_url=\"https://www.programiz.com/html/basics\"\n",
    "\n",
    "header_split_on=[('h1','Header 1'),\n",
    "                 ('h2','Header 2')]\n",
    "\n",
    "html_split=HTMLHeaderTextSplitter(headers_to_split_on=header_split_on)\n",
    "\n",
    "html_loader=html_split.split_text_from_url(html_url)\n",
    "html_loader\n"
   ]
  }
 ],
 "metadata": {
  "kernelspec": {
   "display_name": "venv",
   "language": "python",
   "name": "python3"
  },
  "language_info": {
   "codemirror_mode": {
    "name": "ipython",
    "version": 3
   },
   "file_extension": ".py",
   "mimetype": "text/x-python",
   "name": "python",
   "nbconvert_exporter": "python",
   "pygments_lexer": "ipython3",
   "version": "3.11.0"
  }
 },
 "nbformat": 4,
 "nbformat_minor": 2
}
